{
 "cells": [
  {
   "cell_type": "markdown",
   "metadata": {},
   "source": [
    "### Regular Expression\n",
    "- RE is a sequence of characters taht forms a pattern(serach pattern)\n",
    "- validate data\n",
    "- Before start using Regular expression in your program must should import re"
   ]
  },
  {
   "cell_type": "code",
   "execution_count": 1,
   "metadata": {},
   "outputs": [],
   "source": [
    "import re"
   ]
  },
  {
   "cell_type": "code",
   "execution_count": 2,
   "metadata": {
    "collapsed": true
   },
   "outputs": [
    {
     "data": {
      "text/plain": [
       "['A',\n",
       " 'ASCII',\n",
       " 'DEBUG',\n",
       " 'DOTALL',\n",
       " 'I',\n",
       " 'IGNORECASE',\n",
       " 'L',\n",
       " 'LOCALE',\n",
       " 'M',\n",
       " 'MULTILINE',\n",
       " 'Match',\n",
       " 'Pattern',\n",
       " 'RegexFlag',\n",
       " 'S',\n",
       " 'Scanner',\n",
       " 'T',\n",
       " 'TEMPLATE',\n",
       " 'U',\n",
       " 'UNICODE',\n",
       " 'VERBOSE',\n",
       " 'X',\n",
       " '_MAXCACHE',\n",
       " '__all__',\n",
       " '__builtins__',\n",
       " '__cached__',\n",
       " '__doc__',\n",
       " '__file__',\n",
       " '__loader__',\n",
       " '__name__',\n",
       " '__package__',\n",
       " '__spec__',\n",
       " '__version__',\n",
       " '_cache',\n",
       " '_compile',\n",
       " '_compile_repl',\n",
       " '_expand',\n",
       " '_locale',\n",
       " '_pickle',\n",
       " '_special_chars_map',\n",
       " '_subx',\n",
       " 'compile',\n",
       " 'copyreg',\n",
       " 'enum',\n",
       " 'error',\n",
       " 'escape',\n",
       " 'findall',\n",
       " 'finditer',\n",
       " 'fullmatch',\n",
       " 'functools',\n",
       " 'match',\n",
       " 'purge',\n",
       " 'search',\n",
       " 'split',\n",
       " 'sre_compile',\n",
       " 'sre_parse',\n",
       " 'sub',\n",
       " 'subn',\n",
       " 'template']"
      ]
     },
     "execution_count": 2,
     "metadata": {},
     "output_type": "execute_result"
    }
   ],
   "source": [
    "dir(re)"
   ]
  },
  {
   "cell_type": "code",
   "execution_count": 4,
   "metadata": {},
   "outputs": [
    {
     "name": "stdout",
     "output_type": "stream",
     "text": [
      "None\n"
     ]
    }
   ],
   "source": [
    "#re.match(pattern,string)\n",
    "a = re.match('a','PrasannaRaj')\n",
    "print(a)"
   ]
  },
  {
   "cell_type": "code",
   "execution_count": 5,
   "metadata": {},
   "outputs": [
    {
     "data": {
      "text/plain": [
       "<re.Match object; span=(2, 3), match='a'>"
      ]
     },
     "execution_count": 5,
     "metadata": {},
     "output_type": "execute_result"
    }
   ],
   "source": [
    "re.search('a','PrasannaRaj')"
   ]
  },
  {
   "cell_type": "code",
   "execution_count": 6,
   "metadata": {},
   "outputs": [
    {
     "data": {
      "text/plain": [
       "<re.Match object; span=(0, 3), match='raj'>"
      ]
     },
     "execution_count": 6,
     "metadata": {},
     "output_type": "execute_result"
    }
   ],
   "source": [
    "re.match('raj','raj')"
   ]
  },
  {
   "cell_type": "code",
   "execution_count": 11,
   "metadata": {},
   "outputs": [
    {
     "data": {
      "text/plain": [
       "['ra', 'ra']"
      ]
     },
     "execution_count": 11,
     "metadata": {},
     "output_type": "execute_result"
    }
   ],
   "source": [
    "re.findall('ra','prasannaraj')"
   ]
  },
  {
   "cell_type": "code",
   "execution_count": 10,
   "metadata": {},
   "outputs": [
    {
     "name": "stdout",
     "output_type": "stream",
     "text": [
      "<re.Match object; span=(0, 19), match='I am prasanna raj M'>\n"
     ]
    }
   ],
   "source": [
    "import re\n",
    "abc = \"I am prasanna raj M\"\n",
    "x = re.search(\"^I.*M$\",abc)\n",
    "print(x)"
   ]
  },
  {
   "cell_type": "code",
   "execution_count": 23,
   "metadata": {},
   "outputs": [
    {
     "name": "stdout",
     "output_type": "stream",
     "text": [
      "['APSSDC']\n"
     ]
    }
   ],
   "source": [
    "# findall(pattern,string)\n",
    "abc = \"APSSDC python Trainer Prasannaraj,developed in python projects,python workshop\"\n",
    "x = re.findall(\"APSSDC\",abc)\n",
    "print(x)"
   ]
  },
  {
   "cell_type": "code",
   "execution_count": 28,
   "metadata": {},
   "outputs": [
    {
     "data": {
      "text/plain": [
       "<re.Match object; span=(1, 2), match='r'>"
      ]
     },
     "execution_count": 28,
     "metadata": {},
     "output_type": "execute_result"
    }
   ],
   "source": [
    "re.search(\"^r\",\"mraz\")"
   ]
  },
  {
   "cell_type": "code",
   "execution_count": 32,
   "metadata": {},
   "outputs": [
    {
     "data": {
      "text/plain": [
       "<re.Match object; span=(11, 12), match='J'>"
      ]
     },
     "execution_count": 32,
     "metadata": {},
     "output_type": "execute_result"
    }
   ],
   "source": [
    "re.search(\"J$\",\"PRASANNA RAJ\") # $ matches the endingof the line"
   ]
  },
  {
   "cell_type": "code",
   "execution_count": 38,
   "metadata": {},
   "outputs": [
    {
     "data": {
      "text/plain": [
       "<re.Match object; span=(0, 5), match='Gopi1'>"
      ]
     },
     "execution_count": 38,
     "metadata": {},
     "output_type": "execute_result"
    }
   ],
   "source": [
    "# . matches the any character\n",
    "re.search(\".....\",\"Gopi123\")"
   ]
  },
  {
   "cell_type": "code",
   "execution_count": 53,
   "metadata": {},
   "outputs": [
    {
     "data": {
      "text/plain": [
       "[' ', ' ', ' ', ' ']"
      ]
     },
     "execution_count": 53,
     "metadata": {},
     "output_type": "execute_result"
    }
   ],
   "source": [
    "# \\s matches the whitespaces\n",
    "re.findall(\"\\s\",\" pras anna raj \")"
   ]
  },
  {
   "cell_type": "code",
   "execution_count": 51,
   "metadata": {},
   "outputs": [
    {
     "data": {
      "text/plain": [
       "['A', 'P', 'S', 'S', 'D', 'C']"
      ]
     },
     "execution_count": 51,
     "metadata": {},
     "output_type": "execute_result"
    }
   ],
   "source": [
    "re.findall('\\S',\"APSSD C\")"
   ]
  },
  {
   "cell_type": "code",
   "execution_count": 58,
   "metadata": {},
   "outputs": [
    {
     "data": {
      "text/plain": [
       "<re.Match object; span=(0, 4), match='9999'>"
      ]
     },
     "execution_count": 58,
     "metadata": {},
     "output_type": "execute_result"
    }
   ],
   "source": [
    "# * matches the characters 0 or more times\n",
    "re.search(\"9*\",\"9999777688\")"
   ]
  },
  {
   "cell_type": "code",
   "execution_count": 69,
   "metadata": {},
   "outputs": [
    {
     "name": "stdout",
     "output_type": "stream",
     "text": [
      "venkatesh\n"
     ]
    }
   ],
   "source": [
    "import re\n",
    "l = [\"prasanna\",\"gopi\",\"venkatesh\",\"sairam\",\"prasanth\",\"gopi\",'gopim']\n",
    "for i in l:\n",
    "    if re.search('^v.+h$',i):\n",
    "        print(i)\n"
   ]
  },
  {
   "cell_type": "code",
   "execution_count": 73,
   "metadata": {},
   "outputs": [
    {
     "name": "stdout",
     "output_type": "stream",
     "text": [
      "7897897899\n",
      "8989898989\n",
      "7894561230\n",
      "9638527410\n"
     ]
    }
   ],
   "source": [
    "mobile=['7897897899','8989898989','89898989','4564564562','7894561230','9638527410']\n",
    "for i in  mobile:\n",
    "    if re.findall('^[6-9]\\d{9}$',i):\n",
    "        print(i)"
   ]
  },
  {
   "cell_type": "code",
   "execution_count": 74,
   "metadata": {},
   "outputs": [
    {
     "data": {
      "text/plain": [
       "'\\nprasannarajmallipudi@gmail.com\\nprasannaraz1429@gmail.com\\nprasannaraj.m@gmail.com\\n'"
      ]
     },
     "execution_count": 74,
     "metadata": {},
     "output_type": "execute_result"
    }
   ],
   "source": [
    "# Today Task\n",
    "'''\n",
    "prasannaraj.m@apssdc.in\n",
    "prasannarajmallipudi@gmail.com\n",
    "prasannaraz1429@gmail.com\n",
    "prasannaraj.m@gmail.com\n",
    "raj%&*@ gmail.co\n",
    "123456789abc@yahoo.co.in\n",
    "\n",
    "'''\n",
    "# write a pattern to valid gamil ids only\n",
    "# OUTPUT\n",
    "\"\"\"\n",
    "prasannarajmallipudi@gmail.com\n",
    "prasannaraz1429@gmail.com\n",
    "prasannaraj.m@gmail.com\n",
    "\"\"\"\n"
   ]
  },
  {
   "cell_type": "markdown",
   "metadata": {},
   "source": [
    "### File Handling Techniques\n",
    "##### File\n",
    "- file is a  collection of records.\n",
    "- To store the data\n",
    "\n",
    "#### File operations\n",
    ". 1.open(\"filename\",mode)\n",
    ". 2.write()- To write a data in a file\n",
    ". 3.read() - read method is used to read data in a file\n",
    ". 4.append() - the data added to file\n",
    ". 5.readline() - user for read the line ina files\n",
    ". 6.close()- close the file\n",
    "\n",
    "#### Modes\n",
    "\n",
    "- write mode ----> w\n",
    "- read mode -----> r\n",
    "- append mode-----> a"
   ]
  },
  {
   "cell_type": "code",
   "execution_count": 96,
   "metadata": {},
   "outputs": [
    {
     "name": "stdout",
     "output_type": "stream",
     "text": [
      "APSSDC\n",
      "\n"
     ]
    }
   ],
   "source": [
    "# Read method\n",
    "f = open(\"F:\\\\sdc.txt\",\"r\")\n",
    "result=f.read()\n",
    "print(result)\n",
    "f.close()\n",
    "#print(\"Read Data Sucessfully\")\n"
   ]
  },
  {
   "cell_type": "code",
   "execution_count": 78,
   "metadata": {},
   "outputs": [
    {
     "name": "stdout",
     "output_type": "stream",
     "text": [
      "Write Data Sucessfully\n"
     ]
    }
   ],
   "source": [
    "# Write \n",
    "f = open(\"C:\\\\Users\\\\lenovo\\\\Desktop\\\\FDP-1\\\\Python-FDP-TEAM-2-1\\\\apssdc.txt\",\"w\")\n",
    "data = \"Faculty Development Program_APSSDC\"\n",
    "f.write(data)\n",
    "f.close()# Closing File\n",
    "print(\"Write Data Sucessfully\")"
   ]
  },
  {
   "cell_type": "code",
   "execution_count": 92,
   "metadata": {},
   "outputs": [
    {
     "name": "stdout",
     "output_type": "stream",
     "text": [
      "Append Data\n"
     ]
    }
   ],
   "source": [
    "f = open(\"C:\\\\Users\\\\lenovo\\\\Desktop\\\\FDP-1\\\\apssdc1.txt\",\"a\")\n",
    "data = \" Viajyawada\"\n",
    "f.write(data)\n",
    "f.close()\n",
    "print(\"Append Data\")\n"
   ]
  },
  {
   "cell_type": "code",
   "execution_count": 89,
   "metadata": {},
   "outputs": [
    {
     "name": "stdout",
     "output_type": "stream",
     "text": [
      "Append data Sucessfully\n"
     ]
    }
   ],
   "source": [
    "with open('apssdc.txt','a') as f:\n",
    "    data = \"_Vijyawada\"\n",
    "    f.write(data)\n",
    "    print(\"Append data Sucessfully\")"
   ]
  },
  {
   "cell_type": "code",
   "execution_count": null,
   "metadata": {},
   "outputs": [],
   "source": []
  }
 ],
 "metadata": {
  "kernelspec": {
   "display_name": "Python 3",
   "language": "python",
   "name": "python3"
  },
  "language_info": {
   "codemirror_mode": {
    "name": "ipython",
    "version": 3
   },
   "file_extension": ".py",
   "mimetype": "text/x-python",
   "name": "python",
   "nbconvert_exporter": "python",
   "pygments_lexer": "ipython3",
   "version": "3.7.6"
  }
 },
 "nbformat": 4,
 "nbformat_minor": 4
}
