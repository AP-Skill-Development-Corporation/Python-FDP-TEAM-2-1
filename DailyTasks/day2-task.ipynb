{
 "cells": [
  {
   "cell_type": "markdown",
   "metadata": {},
   "source": [
    "#### Tasks on Day2 Class\n",
    "- Write a python program to get all the even numbers in given range\n",
    "- Program to print multiple mathematical tables\n",
    "- Python program to check whether given number is prime or not\n",
    "- Python Program to check the given numbers existed in given sequence of numbers\n"
   ]
  },
  {
   "cell_type": "code",
   "execution_count": 1,
   "metadata": {},
   "outputs": [
    {
     "name": "stdout",
     "output_type": "stream",
     "text": [
      "enter lower bound value:1\n",
      "enter upper bound value:100\n",
      "2\n",
      "4\n",
      "6\n",
      "8\n",
      "10\n",
      "12\n",
      "14\n",
      "16\n",
      "18\n",
      "20\n",
      "22\n",
      "24\n",
      "26\n",
      "28\n",
      "30\n",
      "32\n",
      "34\n",
      "36\n",
      "38\n",
      "40\n",
      "42\n",
      "44\n",
      "46\n",
      "48\n",
      "50\n",
      "52\n",
      "54\n",
      "56\n",
      "58\n",
      "60\n",
      "62\n",
      "64\n",
      "66\n",
      "68\n",
      "70\n",
      "72\n",
      "74\n",
      "76\n",
      "78\n",
      "80\n",
      "82\n",
      "84\n",
      "86\n",
      "88\n",
      "90\n",
      "92\n",
      "94\n",
      "96\n",
      "98\n"
     ]
    }
   ],
   "source": [
    "a=int(input(\"enter lower bound value:\"))\n",
    "b=int(input('enter upper bound value:'))\n",
    "for i in range(a,b):\n",
    "    if (i%2==0):\n",
    "        print(i)"
   ]
  },
  {
   "cell_type": "code",
   "execution_count": 2,
   "metadata": {},
   "outputs": [
    {
     "name": "stdout",
     "output_type": "stream",
     "text": [
      "enter table number:14\n",
      "14 * 1 = 14\n",
      "14 * 2 = 28\n",
      "14 * 3 = 42\n",
      "14 * 4 = 56\n",
      "14 * 5 = 70\n",
      "14 * 6 = 84\n",
      "14 * 7 = 98\n",
      "14 * 8 = 112\n",
      "14 * 9 = 126\n"
     ]
    }
   ],
   "source": [
    "# Python program to print mathematical table\n",
    "a=int(input('enter table number:'))\n",
    "for i in range(1,10):\n",
    "    print(a,'*',i,'=',a*i)"
   ]
  },
  {
   "cell_type": "code",
   "execution_count": 3,
   "metadata": {},
   "outputs": [
    {
     "name": "stdout",
     "output_type": "stream",
     "text": [
      "2\n",
      "4\n",
      "6\n",
      "8\n",
      "10\n",
      "12\n",
      "14\n",
      "16\n",
      "18\n",
      "20\n",
      "22\n",
      "24\n",
      "26\n",
      "28\n",
      "30\n",
      "32\n",
      "34\n",
      "36\n",
      "38\n",
      "40\n",
      "42\n",
      "44\n",
      "46\n",
      "48\n",
      "50\n",
      "52\n",
      "54\n",
      "56\n",
      "58\n",
      "60\n",
      "62\n",
      "64\n",
      "66\n",
      "68\n",
      "70\n",
      "72\n",
      "74\n",
      "76\n",
      "78\n",
      "80\n",
      "82\n",
      "84\n",
      "86\n",
      "88\n",
      "90\n",
      "92\n",
      "94\n",
      "96\n",
      "98\n"
     ]
    }
   ],
   "source": [
    "for i in range(2,100,2):\n",
    "    print(i)"
   ]
  },
  {
   "cell_type": "code",
   "execution_count": 4,
   "metadata": {},
   "outputs": [
    {
     "name": "stdout",
     "output_type": "stream",
     "text": [
      "enter a value:19\n",
      "19 is prime\n"
     ]
    }
   ],
   "source": [
    "# Python program to check whether given number is prime or not\n",
    "a=int(input('enter a value:'))\n",
    "if a>1:\n",
    "    for i in range(2,a):\n",
    "        if (a%i==0):\n",
    "            print(a,'is not prime')\n",
    "            break\n",
    "    else:\n",
    "        print(a,'is prime')"
   ]
  },
  {
   "cell_type": "code",
   "execution_count": 5,
   "metadata": {},
   "outputs": [
    {
     "name": "stdout",
     "output_type": "stream",
     "text": [
      "enter a value:13\n",
      "13 is prime\n"
     ]
    }
   ],
   "source": [
    "a=int(input('enter a value:'))\n",
    "b=0\n",
    "for i in range(1,a+1):\n",
    "    if (a%i==0):\n",
    "        b=b+1\n",
    "if (b==2):\n",
    "    print(a,'is prime')\n",
    "else:\n",
    "    print(a,'is not prime')"
   ]
  },
  {
   "cell_type": "code",
   "execution_count": 8,
   "metadata": {},
   "outputs": [
    {
     "name": "stdout",
     "output_type": "stream",
     "text": [
      "enter a starting value:1\n",
      "enter a ending value:100\n",
      "2,3,5,7,11,13,17,19,23,29,31,37,41,43,47,53,59,61,67,71,73,79,83,89,97,"
     ]
    }
   ],
   "source": [
    "# python program to print prime numbers between 1 to n\n",
    "lb=int(input('enter a starting value:'))\n",
    "ub=int(input('enter a ending value:'))\n",
    "for i in range(lb,ub+1):\n",
    "    if (i>1):\n",
    "        for j in range(2,i):\n",
    "            if (i%j==0):\n",
    "                break\n",
    "        else:\n",
    "            print(i,end=',')"
   ]
  },
  {
   "cell_type": "code",
   "execution_count": 12,
   "metadata": {},
   "outputs": [
    {
     "name": "stdout",
     "output_type": "stream",
     "text": [
      "enter name:gopi\n",
      "True\n"
     ]
    }
   ],
   "source": [
    "'''4.Python Program to check the given numbers existed in given \n",
    "sequence of numbers'''\n",
    "a=['venkatesh','gopi','sairam','prasanna']\n",
    "for i in range(1,11):\n",
    "    inp=input('enter name:')\n",
    "    if inp in a:\n",
    "        print(True)\n",
    "    else:\n",
    "        print(False)"
   ]
  },
  {
   "cell_type": "code",
   "execution_count": 14,
   "metadata": {},
   "outputs": [
    {
     "name": "stdout",
     "output_type": "stream",
     "text": [
      "a\n",
      "p\n",
      "s\n",
      "s\n",
      "d\n",
      "c\n"
     ]
    }
   ],
   "source": [
    "a='apssdc'\n",
    "for i in a:\n",
    "    print(i)\n",
    "    "
   ]
  },
  {
   "cell_type": "code",
   "execution_count": 20,
   "metadata": {},
   "outputs": [
    {
     "name": "stdout",
     "output_type": "stream",
     "text": [
      "10\n",
      "25\n",
      "12\n",
      "12\n",
      "45\n",
      "70\n"
     ]
    }
   ],
   "source": [
    "a=[10,25,12,12,45,70]\n",
    "for i in range(len(a)):\n",
    "    print(a[i])"
   ]
  },
  {
   "cell_type": "code",
   "execution_count": 21,
   "metadata": {},
   "outputs": [
    {
     "name": "stdout",
     "output_type": "stream",
     "text": [
      "Enter number u want check:10\n",
      "True\n",
      "Enter number u want check:25\n",
      "True\n",
      "Enter number u want check:12\n",
      "True\n",
      "Enter number u want check:45\n",
      "True\n",
      "Enter number u want check:70\n",
      "True\n"
     ]
    }
   ],
   "source": [
    "a=['a','b','c']\n",
    "for i in range(len(a)):\n",
    "    inp=input(\"Enter number u want check:\")\n",
    "    if inp in a:\n",
    "        print(True)\n",
    "    else:\n",
    "        print(False)"
   ]
  },
  {
   "cell_type": "code",
   "execution_count": null,
   "metadata": {},
   "outputs": [],
   "source": []
  }
 ],
 "metadata": {
  "kernelspec": {
   "display_name": "Python 3",
   "language": "python",
   "name": "python3"
  },
  "language_info": {
   "codemirror_mode": {
    "name": "ipython",
    "version": 3
   },
   "file_extension": ".py",
   "mimetype": "text/x-python",
   "name": "python",
   "nbconvert_exporter": "python",
   "pygments_lexer": "ipython3",
   "version": "3.8.3"
  }
 },
 "nbformat": 4,
 "nbformat_minor": 4
}
