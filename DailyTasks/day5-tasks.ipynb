{
 "cells": [
  {
   "cell_type": "markdown",
   "metadata": {},
   "source": [
    "1. Python program to find nth largest value from given list of numbers\n",
    "\n",
    "sample input :\n",
    "\n",
    "[5,10,8,11,22,7,9]\n",
    "\n",
    "Enter n value : 3\n",
    "\n",
    "Sample Output:\n",
    "\n",
    "Third largest number is 10"
   ]
  },
  {
   "cell_type": "code",
   "execution_count": 3,
   "metadata": {},
   "outputs": [
    {
     "name": "stdout",
     "output_type": "stream",
     "text": [
      "[22, 11, 10, 9, 8, 7, 5]\n",
      "Enter n value: 3\n",
      "3 largest is 10\n"
     ]
    }
   ],
   "source": [
    "my_list = [5,10,8,11,22,7,9]\n",
    "my_list.sort(reverse=True)\n",
    "print(my_list)\n",
    "n = int(input('Enter n value: '))\n",
    "print(n,'largest is',my_list[n-1])"
   ]
  },
  {
   "cell_type": "markdown",
   "metadata": {},
   "source": [
    "2. Write a python program to add N no of elements in to list by taking from user, Output should get a list.\n"
   ]
  },
  {
   "cell_type": "code",
   "execution_count": 4,
   "metadata": {},
   "outputs": [
    {
     "name": "stdout",
     "output_type": "stream",
     "text": [
      "Enter no of elements to add: 2\n",
      "Enter element: 1000\n",
      "Enter element: 2000\n",
      "[1000, 2000]\n"
     ]
    }
   ],
   "source": [
    "N = int(input('Enter no of elements to add: '))\n",
    "data = []# empty list\n",
    "for var in range(N):\n",
    "    data.append(int(input('Enter element: ')))\n",
    "print(data)"
   ]
  },
  {
   "cell_type": "code",
   "execution_count": 5,
   "metadata": {},
   "outputs": [
    {
     "name": "stdout",
     "output_type": "stream",
     "text": [
      "1000 2000\n"
     ]
    },
    {
     "data": {
      "text/plain": [
       "[1000, 2000]"
      ]
     },
     "execution_count": 5,
     "metadata": {},
     "output_type": "execute_result"
    }
   ],
   "source": [
    "list(map(int, input().split()))"
   ]
  },
  {
   "cell_type": "code",
   "execution_count": null,
   "metadata": {},
   "outputs": [],
   "source": []
  }
 ],
 "metadata": {
  "kernelspec": {
   "display_name": "Python 3",
   "language": "python",
   "name": "python3"
  },
  "language_info": {
   "codemirror_mode": {
    "name": "ipython",
    "version": 3
   },
   "file_extension": ".py",
   "mimetype": "text/x-python",
   "name": "python",
   "nbconvert_exporter": "python",
   "pygments_lexer": "ipython3",
   "version": "3.7.6"
  }
 },
 "nbformat": 4,
 "nbformat_minor": 4
}
