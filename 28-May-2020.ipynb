{
 "cells": [
  {
   "cell_type": "code",
   "execution_count": 6,
   "metadata": {},
   "outputs": [
    {
     "name": "stdout",
     "output_type": "stream",
     "text": [
      "enter number of users data do you want:2\n",
      "enter user name:venkatesh\n",
      "enter user email:venkatesh123@gmail.com\n",
      "enter phone number:9807654321\n",
      "enter user name:prasanna\n",
      "enter user email:prasanna12@gmail.com\n",
      "enter phone number:7890654321\n"
     ]
    }
   ],
   "source": [
    "def User_data(n):\n",
    "    with open('task9.txt','a') as file:\n",
    "        for i in range(n):\n",
    "            name=input('enter user name:')\n",
    "            email=input('enter user email:')\n",
    "            phone=input('enter phone number:')\n",
    "            import re\n",
    "            if (re.match('^[a-z0-9._]{7,15}[@][a-z.]{6,11}$',email) and \n",
    "               re.match('^[6-9][0-9]{9}$',phone)):\n",
    "                file.write('\\n'+name+','+email+','+phone+'\\n')\n",
    "            else:\n",
    "                print('invalid email or phone number')\n",
    "User_data(n=int(input('enter number of users data do you want:')))"
   ]
  },
  {
   "cell_type": "code",
   "execution_count": 3,
   "metadata": {},
   "outputs": [
    {
     "name": "stdout",
     "output_type": "stream",
     "text": [
      "enter email:venkatesh123@gmail.com\n",
      "valid\n"
     ]
    }
   ],
   "source": [
    "import re\n",
    "a=input('enter email:')\n",
    "em_pat='^[a-z0-9._]{7,15}[@][a-z]{6,11}[.]$'\n",
    "if (re.match(em_pat,a)):\n",
    "    print('valid')\n",
    "else:\n",
    "    print('invalid')"
   ]
  },
  {
   "cell_type": "code",
   "execution_count": 8,
   "metadata": {},
   "outputs": [],
   "source": [
    "# how to copy data from one file to another file\n",
    "with open('task9.txt','r') as f1:\n",
    "    with open('example.txt','w') as f2:\n",
    "        for i in f1:\n",
    "            f2.write(i)"
   ]
  },
  {
   "cell_type": "markdown",
   "metadata": {},
   "source": [
    "#### Numpy\n",
    "\n",
    "- Introduction of numpy\n",
    "    - Numpy is a python library which is used for working with arrays\n",
    "    - Numpy stands for numerical python \n",
    "    - pip install numpy\n",
    "- How create numpy array\n",
    "    - import numpy\n",
    "    - a= numpy.array([1,2,3,4,5,6])\n",
    "    - a\n",
    "    - type(a)\n",
    "- Numpy array indexing\n",
    "- Numpy array slicing\n",
    "- Numpy data types\n",
    "- Numpy copy and view\n",
    "- Numpy array shape\n",
    "- Numpy array reshape\n",
    "- Numpy concatnating arrays\n",
    "- Numpy array splitting\n",
    "- Numpy array sort\n",
    "- Numpy random"
   ]
  },
  {
   "cell_type": "code",
   "execution_count": 13,
   "metadata": {},
   "outputs": [
    {
     "name": "stdout",
     "output_type": "stream",
     "text": [
      "['1' '2' '3' '4' '5' '6']\n",
      "<class 'numpy.ndarray'>\n"
     ]
    }
   ],
   "source": [
    "# creating array\n",
    "import numpy as np\n",
    "a= np.array([1,2,3,'4',5,6])\n",
    "print(a)\n",
    "print(type(a))\n"
   ]
  },
  {
   "cell_type": "code",
   "execution_count": 14,
   "metadata": {},
   "outputs": [
    {
     "name": "stdout",
     "output_type": "stream",
     "text": [
      "1.18.1\n"
     ]
    }
   ],
   "source": [
    "print(np.__version__)"
   ]
  },
  {
   "cell_type": "code",
   "execution_count": 17,
   "metadata": {},
   "outputs": [
    {
     "name": "stdout",
     "output_type": "stream",
     "text": [
      "[1 2 3 4 5 6 7 8]\n",
      "<class 'numpy.ndarray'>\n"
     ]
    }
   ],
   "source": [
    "ar1=np.array((1,2,3,4,5,6,7,8))\n",
    "print(ar1)\n",
    "print(type(ar1))"
   ]
  },
  {
   "cell_type": "code",
   "execution_count": 18,
   "metadata": {},
   "outputs": [
    {
     "name": "stdout",
     "output_type": "stream",
     "text": [
      "42\n"
     ]
    }
   ],
   "source": [
    "# how to create n dimension array\n",
    "a1=np.array(42)\n",
    "print(a1)"
   ]
  },
  {
   "cell_type": "code",
   "execution_count": 20,
   "metadata": {},
   "outputs": [
    {
     "name": "stdout",
     "output_type": "stream",
     "text": [
      "[1 2 3 4 5 6]\n",
      "1\n"
     ]
    }
   ],
   "source": [
    "# how to create 1-d array\n",
    "a2=np.array([1,2,3,4,5,6])\n",
    "print(a2)\n",
    "print(a2.ndim)"
   ]
  },
  {
   "cell_type": "code",
   "execution_count": 24,
   "metadata": {},
   "outputs": [
    {
     "name": "stdout",
     "output_type": "stream",
     "text": [
      "[[1 2 3 4]\n",
      " [4 5 6 7]]\n",
      "2\n"
     ]
    }
   ],
   "source": [
    "# how to create 2-d array\n",
    "a3=np.array([[1,2,3,4],[4,5,6,7]])\n",
    "print(a3)\n",
    "print(a3.ndim)"
   ]
  },
  {
   "cell_type": "code",
   "execution_count": 25,
   "metadata": {},
   "outputs": [
    {
     "name": "stdout",
     "output_type": "stream",
     "text": [
      "[[[ 1  2  3  4]\n",
      "  [ 5  6  7  8]\n",
      "  [ 9 10 11 12]\n",
      "  [13 14 15 16]]]\n",
      "3\n"
     ]
    }
   ],
   "source": [
    "# how to create 3-d array\n",
    "a4=np.array([[[1,2,3,4],[5,6,7,8],[9,10,11,12],[13,14,15,16]]])\n",
    "print(a4)\n",
    "print(a4.ndim)"
   ]
  },
  {
   "cell_type": "code",
   "execution_count": 28,
   "metadata": {},
   "outputs": [
    {
     "name": "stdout",
     "output_type": "stream",
     "text": [
      "[[[[[1. 2. 3. 4.]]]]]\n",
      "how many dimensions: 5\n"
     ]
    }
   ],
   "source": [
    "a5=np.array([1,2,3,4],ndmin=5,dtype='float')\n",
    "print(a5)\n",
    "print('how many dimensions:',a5.ndim)"
   ]
  },
  {
   "cell_type": "code",
   "execution_count": 33,
   "metadata": {},
   "outputs": [
    {
     "name": "stdout",
     "output_type": "stream",
     "text": [
      "7\n"
     ]
    }
   ],
   "source": [
    "# numpy array indexing\n",
    "a6=np.array([1,2,3,4,5,6,7])\n",
    "print(a6[6])"
   ]
  },
  {
   "cell_type": "code",
   "execution_count": 36,
   "metadata": {},
   "outputs": [
    {
     "name": "stdout",
     "output_type": "stream",
     "text": [
      "3rd element in 1st dim [5 6 7]\n"
     ]
    }
   ],
   "source": [
    "# how to access elements from 2-d array\n",
    "\n",
    "a7=np.array([[1,2,3,4],[5,6,7,8]])\n",
    "print(a7[1,0:3])"
   ]
  },
  {
   "cell_type": "code",
   "execution_count": 49,
   "metadata": {},
   "outputs": [
    {
     "name": "stdout",
     "output_type": "stream",
     "text": [
      "[7 8 9]\n"
     ]
    }
   ],
   "source": [
    "# how to get elements in 3-d array\n",
    "a9=np.array([[[1,2,3],[4,5,6]],[[7,8,9],[10,11,12]]])\n"
   ]
  },
  {
   "cell_type": "code",
   "execution_count": 41,
   "metadata": {},
   "outputs": [
    {
     "name": "stdout",
     "output_type": "stream",
     "text": [
      "8\n"
     ]
    }
   ],
   "source": [
    "print(a9[1,0,1])# frward index"
   ]
  },
  {
   "cell_type": "code",
   "execution_count": 42,
   "metadata": {},
   "outputs": [
    {
     "name": "stdout",
     "output_type": "stream",
     "text": [
      "8\n"
     ]
    }
   ],
   "source": [
    "print(a9[-1,-2,-2])# backward index"
   ]
  },
  {
   "cell_type": "code",
   "execution_count": 43,
   "metadata": {},
   "outputs": [
    {
     "name": "stdout",
     "output_type": "stream",
     "text": [
      "[1 2 3 4 5]\n"
     ]
    }
   ],
   "source": [
    "a10=np.array([1,2,3,4,5,6,7])\n",
    "print(a10[0:5])"
   ]
  },
  {
   "cell_type": "code",
   "execution_count": 45,
   "metadata": {},
   "outputs": [
    {
     "name": "stdout",
     "output_type": "stream",
     "text": [
      "[1 3 5]\n"
     ]
    }
   ],
   "source": [
    "print(a10[0:6:2])"
   ]
  },
  {
   "cell_type": "code",
   "execution_count": 57,
   "metadata": {},
   "outputs": [
    {
     "data": {
      "text/plain": [
       "array([[ 1,  2,  3,  4,  5],\n",
       "       [ 6,  7,  8,  9, 10],\n",
       "       [11, 12, 13, 14, 15]])"
      ]
     },
     "execution_count": 57,
     "metadata": {},
     "output_type": "execute_result"
    }
   ],
   "source": [
    "arr1=np.array([[1,2,3,4,5],[6,7,8,9,10],[11,12,13,14,15]])\n",
    "arr1"
   ]
  },
  {
   "cell_type": "code",
   "execution_count": 59,
   "metadata": {},
   "outputs": [
    {
     "name": "stdout",
     "output_type": "stream",
     "text": [
      "[[ 1  3  5]\n",
      " [ 6  8 10]\n",
      " [11 13 15]]\n"
     ]
    }
   ],
   "source": [
    "print(arr1[0:3,0::2])"
   ]
  },
  {
   "cell_type": "code",
   "execution_count": null,
   "metadata": {},
   "outputs": [],
   "source": []
  }
 ],
 "metadata": {
  "kernelspec": {
   "display_name": "Python 3",
   "language": "python",
   "name": "python3"
  },
  "language_info": {
   "codemirror_mode": {
    "name": "ipython",
    "version": 3
   },
   "file_extension": ".py",
   "mimetype": "text/x-python",
   "name": "python",
   "nbconvert_exporter": "python",
   "pygments_lexer": "ipython3",
   "version": "3.7.6"
  }
 },
 "nbformat": 4,
 "nbformat_minor": 4
}
